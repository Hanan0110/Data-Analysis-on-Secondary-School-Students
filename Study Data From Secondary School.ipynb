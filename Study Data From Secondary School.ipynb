{
 "cells": [
  {
   "cell_type": "markdown",
   "metadata": {},
   "source": [
    "# Social, gender and study data from secondary school students\n",
    "#### By: Hanan Amer\n",
    "<img width=200px style=\"float:left; margin: 5px 5px 0 0\" src=\"https://foodallergycanada.ca/wp-content/uploads/iStock-471800567-768x512.jpg\"></img> \n",
    "\n",
    "The dataset that we are using, displays Portuguese secondary students and different factors which might affect their academic progress. The dataset includes 395 students, and has 30 independent variables and 3 dependent variables (G1, G2, and G3). This dataset is interesting because it shows how different factors affect the students’ performance in school. It’s relevant to data science because we can use this information to observe what steps we can take to help a student have a successful academic career. In this analysis, we will be going through comparisons between hours spent studying, number of absences, having a tutor, coming from an educated family and its effect on grades. We also will analyse whether having a longer commute to school affects one’s grades. As a result, if teachers noticed a student is performing poorly, they can use our analysis to effectively assist the student live to his or her fullest potential.\n"
   ]
  },
  {
   "cell_type": "code",
   "execution_count": 1,
   "metadata": {},
   "outputs": [],
   "source": [
    "import numpy as np # importing the numpy library \n",
    "import matplotlib.pyplot as plt # library for ploting data\n",
    "import pandas as pd # panda library used to construct and edit dataframes\n",
    "%matplotlib inline"
   ]
  },
  {
   "cell_type": "markdown",
   "metadata": {},
   "source": [
    "### About the Portuguese education system\n",
    "The Portuguese education system divides each semester into 3 terms, G1, G2, and G3. They use a 20-point grading system where a score above 10 is passing, 10-13 is a C, 14-15 is a B, 16-17 is a A, and an 18-20 is an A+. In the below cell, we figure out the final mark by calculating the average of all the grades per student. "
   ]
  },
  {
   "cell_type": "code",
   "execution_count": 2,
   "metadata": {},
   "outputs": [
    {
     "data": {
      "text/html": [
       "<div>\n",
       "<style scoped>\n",
       "    .dataframe tbody tr th:only-of-type {\n",
       "        vertical-align: middle;\n",
       "    }\n",
       "\n",
       "    .dataframe tbody tr th {\n",
       "        vertical-align: top;\n",
       "    }\n",
       "\n",
       "    .dataframe thead th {\n",
       "        text-align: right;\n",
       "    }\n",
       "</style>\n",
       "<table border=\"1\" class=\"dataframe\">\n",
       "  <thead>\n",
       "    <tr style=\"text-align: right;\">\n",
       "      <th></th>\n",
       "      <th>school</th>\n",
       "      <th>sex</th>\n",
       "      <th>age</th>\n",
       "      <th>address</th>\n",
       "      <th>famsize</th>\n",
       "      <th>Pstatus</th>\n",
       "      <th>Medu</th>\n",
       "      <th>Fedu</th>\n",
       "      <th>Mjob</th>\n",
       "      <th>Fjob</th>\n",
       "      <th>reason</th>\n",
       "      <th>guardian</th>\n",
       "      <th>traveltime</th>\n",
       "      <th>studytime</th>\n",
       "      <th>failures</th>\n",
       "      <th>schoolsup</th>\n",
       "      <th>famsup</th>\n",
       "      <th>paid</th>\n",
       "      <th>activities</th>\n",
       "      <th>nursery</th>\n",
       "      <th>higher</th>\n",
       "      <th>internet</th>\n",
       "      <th>romantic</th>\n",
       "      <th>famrel</th>\n",
       "      <th>freetime</th>\n",
       "      <th>goout</th>\n",
       "      <th>Dalc</th>\n",
       "      <th>Walc</th>\n",
       "      <th>health</th>\n",
       "      <th>absences</th>\n",
       "      <th>G1</th>\n",
       "      <th>G2</th>\n",
       "      <th>G3</th>\n",
       "      <th>FinalGrade</th>\n",
       "    </tr>\n",
       "  </thead>\n",
       "  <tbody>\n",
       "    <tr>\n",
       "      <th>0</th>\n",
       "      <td>GP</td>\n",
       "      <td>F</td>\n",
       "      <td>18</td>\n",
       "      <td>U</td>\n",
       "      <td>GT3</td>\n",
       "      <td>A</td>\n",
       "      <td>4</td>\n",
       "      <td>4</td>\n",
       "      <td>at_home</td>\n",
       "      <td>teacher</td>\n",
       "      <td>course</td>\n",
       "      <td>mother</td>\n",
       "      <td>2</td>\n",
       "      <td>2</td>\n",
       "      <td>0</td>\n",
       "      <td>yes</td>\n",
       "      <td>no</td>\n",
       "      <td>no</td>\n",
       "      <td>no</td>\n",
       "      <td>yes</td>\n",
       "      <td>yes</td>\n",
       "      <td>no</td>\n",
       "      <td>no</td>\n",
       "      <td>4</td>\n",
       "      <td>3</td>\n",
       "      <td>4</td>\n",
       "      <td>1</td>\n",
       "      <td>1</td>\n",
       "      <td>3</td>\n",
       "      <td>6</td>\n",
       "      <td>5</td>\n",
       "      <td>6</td>\n",
       "      <td>6</td>\n",
       "      <td>5.666667</td>\n",
       "    </tr>\n",
       "    <tr>\n",
       "      <th>1</th>\n",
       "      <td>GP</td>\n",
       "      <td>F</td>\n",
       "      <td>17</td>\n",
       "      <td>U</td>\n",
       "      <td>GT3</td>\n",
       "      <td>T</td>\n",
       "      <td>1</td>\n",
       "      <td>1</td>\n",
       "      <td>at_home</td>\n",
       "      <td>other</td>\n",
       "      <td>course</td>\n",
       "      <td>father</td>\n",
       "      <td>1</td>\n",
       "      <td>2</td>\n",
       "      <td>0</td>\n",
       "      <td>no</td>\n",
       "      <td>yes</td>\n",
       "      <td>no</td>\n",
       "      <td>no</td>\n",
       "      <td>no</td>\n",
       "      <td>yes</td>\n",
       "      <td>yes</td>\n",
       "      <td>no</td>\n",
       "      <td>5</td>\n",
       "      <td>3</td>\n",
       "      <td>3</td>\n",
       "      <td>1</td>\n",
       "      <td>1</td>\n",
       "      <td>3</td>\n",
       "      <td>4</td>\n",
       "      <td>5</td>\n",
       "      <td>5</td>\n",
       "      <td>6</td>\n",
       "      <td>5.333333</td>\n",
       "    </tr>\n",
       "  </tbody>\n",
       "</table>\n",
       "</div>"
      ],
      "text/plain": [
       "  school sex  age address famsize Pstatus  Medu  Fedu     Mjob     Fjob  \\\n",
       "0     GP   F   18       U     GT3       A     4     4  at_home  teacher   \n",
       "1     GP   F   17       U     GT3       T     1     1  at_home    other   \n",
       "\n",
       "   reason guardian  traveltime  studytime  failures schoolsup famsup paid  \\\n",
       "0  course   mother           2          2         0       yes     no   no   \n",
       "1  course   father           1          2         0        no    yes   no   \n",
       "\n",
       "  activities nursery higher internet romantic  famrel  freetime  goout  Dalc  \\\n",
       "0         no     yes    yes       no       no       4         3      4     1   \n",
       "1         no      no    yes      yes       no       5         3      3     1   \n",
       "\n",
       "   Walc  health  absences  G1  G2  G3  FinalGrade  \n",
       "0     1       3         6   5   6   6    5.666667  \n",
       "1     1       3         4   5   5   6    5.333333  "
      ]
     },
     "execution_count": 2,
     "metadata": {},
     "output_type": "execute_result"
    }
   ],
   "source": [
    "# Reading in the data set\n",
    "df = pd.read_csv(\"student-mat.csv\")\n",
    "pd.options.display.max_columns = None # Getting the maximum number of columns\n",
    "df['FinalGrade'] = (df.G1+df.G2+df.G3)/3 # creating a new column that includes the mean of all the tests\n",
    "df.head(2) #  obtaining the head of the data set"
   ]
  },
  {
   "cell_type": "code",
   "execution_count": 3,
   "metadata": {},
   "outputs": [
    {
     "name": "stdout",
     "output_type": "stream",
     "text": [
      "Columns:  395\n",
      "Rows:  34\n"
     ]
    }
   ],
   "source": [
    "# Finding the total number of rows and columns of the data set\n",
    "column,row = df.shape\n",
    "print(\"Columns: \", column)\n",
    "print(\"Rows: \", row)"
   ]
  },
  {
   "cell_type": "markdown",
   "metadata": {},
   "source": [
    "##### ----------------------------------------------------------------------------------------------------------------------------------------------------------------------------------------------------------\n",
    "### Does studying for a longer period of time have an effect on your overall grade?\n",
    "In this cell below, we compare the number of hours a student spends studying with his final grade. We took the students who studied less than 2 hours, 2-5 hours, 5-10 hours, and greater than 10 hours a week and grouped them accordingly. Then we calculated the mean grade for each group to determine whether the number of hours spent studying per week affects the students’ final grade."
   ]
  },
  {
   "cell_type": "code",
   "execution_count": 4,
   "metadata": {},
   "outputs": [
    {
     "data": {
      "text/html": [
       "<div>\n",
       "<style scoped>\n",
       "    .dataframe tbody tr th:only-of-type {\n",
       "        vertical-align: middle;\n",
       "    }\n",
       "\n",
       "    .dataframe tbody tr th {\n",
       "        vertical-align: top;\n",
       "    }\n",
       "\n",
       "    .dataframe thead th {\n",
       "        text-align: right;\n",
       "    }\n",
       "</style>\n",
       "<table border=\"1\" class=\"dataframe\">\n",
       "  <thead>\n",
       "    <tr style=\"text-align: right;\">\n",
       "      <th></th>\n",
       "      <th>studytime</th>\n",
       "      <th>FinalGrade</th>\n",
       "    </tr>\n",
       "  </thead>\n",
       "  <tbody>\n",
       "    <tr>\n",
       "      <th>0</th>\n",
       "      <td>1</td>\n",
       "      <td>10.253968</td>\n",
       "    </tr>\n",
       "    <tr>\n",
       "      <th>1</th>\n",
       "      <td>2</td>\n",
       "      <td>10.442761</td>\n",
       "    </tr>\n",
       "    <tr>\n",
       "      <th>2</th>\n",
       "      <td>3</td>\n",
       "      <td>11.651282</td>\n",
       "    </tr>\n",
       "    <tr>\n",
       "      <th>3</th>\n",
       "      <td>4</td>\n",
       "      <td>11.728395</td>\n",
       "    </tr>\n",
       "  </tbody>\n",
       "</table>\n",
       "</div>"
      ],
      "text/plain": [
       "   studytime  FinalGrade\n",
       "0          1   10.253968\n",
       "1          2   10.442761\n",
       "2          3   11.651282\n",
       "3          4   11.728395"
      ]
     },
     "execution_count": 4,
     "metadata": {},
     "output_type": "execute_result"
    }
   ],
   "source": [
    "newCopy = pd.DataFrame(df) # Make a copy of the initial dataframe\n",
    "# Picking out individual studytimes and then using groupby to calculate the mean average in that category \n",
    "TwoHours= newCopy[newCopy.studytime == 1]\n",
    "FiveHours= newCopy[newCopy.studytime == 2]\n",
    "TenHours= newCopy[newCopy.studytime == 3]\n",
    "PlusTenHours= newCopy[newCopy.studytime == 4]\n",
    "\n",
    "First = TwoHours.groupby(['studytime']).agg({'FinalGrade': 'mean'})\n",
    "Second = FiveHours.groupby(['studytime']).agg({'FinalGrade': 'mean'})\n",
    "Third = TenHours.groupby(['studytime']).agg({'FinalGrade': 'mean'})\n",
    "Fourth = PlusTenHours.groupby(['studytime']).agg({'FinalGrade': 'mean'})\n",
    "Final = pd.concat([First,Second,Third,Fourth]).reset_index()\n",
    "Final"
   ]
  },
  {
   "cell_type": "code",
   "execution_count": 5,
   "metadata": {},
   "outputs": [
    {
     "data": {
      "image/png": "[encoded data removed]",
      "text/plain": [
       "<matplotlib.figure.Figure at 0x267a1b89e80>"
      ]
     },
     "metadata": {},
     "output_type": "display_data"
    }
   ],
   "source": [
    "# plotting the relationship between studytime and finalgrade\n",
    "plt.plot(Final['studytime'],Final['FinalGrade'], color = 'red');\n",
    "plt.title('Study Time vs FinalGrade');\n",
    "plt.xlabel('StudyTime');\n",
    "plt.ylabel('FinalGrade');"
   ]
  },
  {
   "cell_type": "markdown",
   "metadata": {},
   "source": [
    "Based on the results that we acquired, we can conclude that studying does have an impact on academic performance. As seen in the table, groups that performed well have a longer study period. Thereafter, we can conclude studying more does indeed affect the final grade of the students. \n",
    "\n",
    "##### ----------------------------------------------------------------------------------------------------------------------------------------------------------------------------------------------------------"
   ]
  },
  {
   "cell_type": "markdown",
   "metadata": {},
   "source": [
    "### Finding the correlation\n",
    "We were curious what the relation between absences and final grades were, so we decided to plot the number of absences on the y-axis and their final grade on the x-axis. Our hypothesis is that the number of absences are going to have a strong correlation with the final grades."
   ]
  },
  {
   "cell_type": "code",
   "execution_count": 6,
   "metadata": {},
   "outputs": [
    {
     "data": {
      "text/plain": [
       "-0.005908806132303025"
      ]
     },
     "execution_count": 6,
     "metadata": {},
     "output_type": "execute_result"
    }
   ],
   "source": [
    "# Finding the correlation between absences and Final grade\n",
    "new = df.corr()\n",
    "new.loc['absences','FinalGrade']"
   ]
  },
  {
   "cell_type": "code",
   "execution_count": 7,
   "metadata": {},
   "outputs": [
    {
     "data": {
      "image/png": "[encoded data removed]",
      "text/plain": [
       "<matplotlib.figure.Figure at 0x267a39c09e8>"
      ]
     },
     "metadata": {},
     "output_type": "display_data"
    }
   ],
   "source": [
    "# plotting the relationship between Final grades and absences\n",
    "plt.scatter(df.FinalGrade,df.absences, color = 'lightblue');\n",
    "plt.plot(np.unique(df.FinalGrade), np.poly1d(np.polyfit(df.FinalGrade, df.absences, 2))(np.unique(df.FinalGrade)));\n",
    "plt.title('Final Grade vs Absences');\n",
    "plt.xlabel('Final Grade');\n",
    "plt.ylabel('Absences');"
   ]
  },
  {
   "cell_type": "markdown",
   "metadata": {},
   "source": [
    "We were expecting a strong correlation between the two but surprisingly we discovered a Pearson correlation coefficient of -0.0059, meaning there was no relationship between the two. The scatter plot we made allows us to see there was an even spread of absences throughout the range of the final grade. There were a couple of outliers which may have occurred. There was no significant information here so we could not use it to support our initial objective. \n",
    "\n",
    "##### ----------------------------------------------------------------------------------------------------------------------------------------------------------------------------------------------------------"
   ]
  },
  {
   "cell_type": "markdown",
   "metadata": {},
   "source": [
    "# Would having educated parents reflect on ones grade?\n",
    "In the following cell, we grouped the students according to their parent’s education level. We had a group for each possible combination of the student’s parent’s education. We are testing this out because we suspect the education level of the parents would reflect their children’s academic success. On the chart, 0 is no education, 1 is primary education, 2 is middle school, 3 is secondary school, 4 is post secondary education. We then ordered the parents from the least educated to most educated. Then we plotted the graph with the index on the x-axis and the final grades on the y-axis. We used the index because we couldn’t plot two numbers on one x-axis, so we used indexes to represent the combination of the mother’s and father’s education. "
   ]
  },
  {
   "cell_type": "code",
   "execution_count": 8,
   "metadata": {},
   "outputs": [
    {
     "data": {
      "text/html": [
       "<div>\n",
       "<style scoped>\n",
       "    .dataframe tbody tr th:only-of-type {\n",
       "        vertical-align: middle;\n",
       "    }\n",
       "\n",
       "    .dataframe tbody tr th {\n",
       "        vertical-align: top;\n",
       "    }\n",
       "\n",
       "    .dataframe thead th {\n",
       "        text-align: right;\n",
       "    }\n",
       "</style>\n",
       "<table border=\"1\" class=\"dataframe\">\n",
       "  <thead>\n",
       "    <tr style=\"text-align: right;\">\n",
       "      <th></th>\n",
       "      <th>Medu</th>\n",
       "      <th>Fedu</th>\n",
       "      <th>FinalGrade</th>\n",
       "    </tr>\n",
       "  </thead>\n",
       "  <tbody>\n",
       "    <tr>\n",
       "      <th>0</th>\n",
       "      <td>0</td>\n",
       "      <td>1</td>\n",
       "      <td>8.000000</td>\n",
       "    </tr>\n",
       "    <tr>\n",
       "      <th>1</th>\n",
       "      <td>0</td>\n",
       "      <td>2</td>\n",
       "      <td>14.833333</td>\n",
       "    </tr>\n",
       "    <tr>\n",
       "      <th>2</th>\n",
       "      <td>1</td>\n",
       "      <td>0</td>\n",
       "      <td>14.666667</td>\n",
       "    </tr>\n",
       "    <tr>\n",
       "      <th>3</th>\n",
       "      <td>1</td>\n",
       "      <td>1</td>\n",
       "      <td>8.765766</td>\n",
       "    </tr>\n",
       "    <tr>\n",
       "      <th>4</th>\n",
       "      <td>1</td>\n",
       "      <td>2</td>\n",
       "      <td>10.000000</td>\n",
       "    </tr>\n",
       "    <tr>\n",
       "      <th>5</th>\n",
       "      <td>1</td>\n",
       "      <td>3</td>\n",
       "      <td>8.133333</td>\n",
       "    </tr>\n",
       "    <tr>\n",
       "      <th>6</th>\n",
       "      <td>1</td>\n",
       "      <td>4</td>\n",
       "      <td>13.000000</td>\n",
       "    </tr>\n",
       "    <tr>\n",
       "      <th>7</th>\n",
       "      <td>2</td>\n",
       "      <td>1</td>\n",
       "      <td>9.523810</td>\n",
       "    </tr>\n",
       "    <tr>\n",
       "      <th>8</th>\n",
       "      <td>2</td>\n",
       "      <td>2</td>\n",
       "      <td>10.084967</td>\n",
       "    </tr>\n",
       "    <tr>\n",
       "      <th>9</th>\n",
       "      <td>2</td>\n",
       "      <td>3</td>\n",
       "      <td>10.705882</td>\n",
       "    </tr>\n",
       "    <tr>\n",
       "      <th>10</th>\n",
       "      <td>2</td>\n",
       "      <td>4</td>\n",
       "      <td>12.761905</td>\n",
       "    </tr>\n",
       "    <tr>\n",
       "      <th>11</th>\n",
       "      <td>3</td>\n",
       "      <td>1</td>\n",
       "      <td>11.066667</td>\n",
       "    </tr>\n",
       "    <tr>\n",
       "      <th>12</th>\n",
       "      <td>3</td>\n",
       "      <td>2</td>\n",
       "      <td>10.571429</td>\n",
       "    </tr>\n",
       "    <tr>\n",
       "      <th>13</th>\n",
       "      <td>3</td>\n",
       "      <td>3</td>\n",
       "      <td>10.122807</td>\n",
       "    </tr>\n",
       "    <tr>\n",
       "      <th>14</th>\n",
       "      <td>3</td>\n",
       "      <td>4</td>\n",
       "      <td>10.444444</td>\n",
       "    </tr>\n",
       "    <tr>\n",
       "      <th>15</th>\n",
       "      <td>4</td>\n",
       "      <td>0</td>\n",
       "      <td>10.666667</td>\n",
       "    </tr>\n",
       "    <tr>\n",
       "      <th>16</th>\n",
       "      <td>4</td>\n",
       "      <td>1</td>\n",
       "      <td>8.000000</td>\n",
       "    </tr>\n",
       "    <tr>\n",
       "      <th>17</th>\n",
       "      <td>4</td>\n",
       "      <td>2</td>\n",
       "      <td>12.789474</td>\n",
       "    </tr>\n",
       "    <tr>\n",
       "      <th>18</th>\n",
       "      <td>4</td>\n",
       "      <td>3</td>\n",
       "      <td>11.608333</td>\n",
       "    </tr>\n",
       "    <tr>\n",
       "      <th>19</th>\n",
       "      <td>4</td>\n",
       "      <td>4</td>\n",
       "      <td>11.785714</td>\n",
       "    </tr>\n",
       "  </tbody>\n",
       "</table>\n",
       "</div>"
      ],
      "text/plain": [
       "    Medu  Fedu  FinalGrade\n",
       "0      0     1    8.000000\n",
       "1      0     2   14.833333\n",
       "2      1     0   14.666667\n",
       "3      1     1    8.765766\n",
       "4      1     2   10.000000\n",
       "5      1     3    8.133333\n",
       "6      1     4   13.000000\n",
       "7      2     1    9.523810\n",
       "8      2     2   10.084967\n",
       "9      2     3   10.705882\n",
       "10     2     4   12.761905\n",
       "11     3     1   11.066667\n",
       "12     3     2   10.571429\n",
       "13     3     3   10.122807\n",
       "14     3     4   10.444444\n",
       "15     4     0   10.666667\n",
       "16     4     1    8.000000\n",
       "17     4     2   12.789474\n",
       "18     4     3   11.608333\n",
       "19     4     4   11.785714"
      ]
     },
     "execution_count": 8,
     "metadata": {},
     "output_type": "execute_result"
    }
   ],
   "source": [
    "# Make a copy of the initial dataframe\n",
    "CopyFrame = pd.DataFrame(df)\n",
    "# Using groupby on the level of education for the student's Mother and Father and finding the mean of the final grade for every possible combination\n",
    "MothFath = CopyFrame[CopyFrame.Medu & CopyFrame.Fedu >= 0]\n",
    "Final = MothFath.groupby(['Medu','Fedu']).agg({'FinalGrade': 'mean'}).reset_index()\n",
    "Final"
   ]
  },
  {
   "cell_type": "code",
   "execution_count": 9,
   "metadata": {},
   "outputs": [
    {
     "data": {
      "image/png": "[encoded data removed]",
      "text/plain": [
       "<matplotlib.figure.Figure at 0x267a39d96a0>"
      ]
     },
     "metadata": {},
     "output_type": "display_data"
    }
   ],
   "source": [
    "# plotting the relationship final grade and parent education\n",
    "plt.bar(Final.index,Final['FinalGrade'],color = 'gold');\n",
    "plt.title('Final Grade vs Parent Education');\n",
    "plt.xlabel('Index (Refer to the table)');\n",
    "plt.ylabel('Final Grade');\n"
   ]
  },
  {
   "cell_type": "markdown",
   "metadata": {},
   "source": [
    "From the scatter plot we can see the data is fairly scattered, there are high and low grades at both ends of the x-axis, we can conclude there is no significant relationship between parents being educated and the student’s final grades.\n",
    "### --------------------------------------------------------------------------------------------------------------------------------------------------------------"
   ]
  },
  {
   "cell_type": "markdown",
   "metadata": {},
   "source": [
    "# Does tutoring help?\n",
    "We hypotheses the students who go to tutoring are better off academically. To test this hypothesis, we grouped the students into two groups, those who go to a paid tutor and those who don’t. Then, we found the average of all the students."
   ]
  },
  {
   "cell_type": "code",
   "execution_count": 10,
   "metadata": {},
   "outputs": [
    {
     "data": {
      "text/html": [
       "<div>\n",
       "<style scoped>\n",
       "    .dataframe tbody tr th:only-of-type {\n",
       "        vertical-align: middle;\n",
       "    }\n",
       "\n",
       "    .dataframe tbody tr th {\n",
       "        vertical-align: top;\n",
       "    }\n",
       "\n",
       "    .dataframe thead th {\n",
       "        text-align: right;\n",
       "    }\n",
       "</style>\n",
       "<table border=\"1\" class=\"dataframe\">\n",
       "  <thead>\n",
       "    <tr style=\"text-align: right;\">\n",
       "      <th></th>\n",
       "      <th>paid</th>\n",
       "      <th>FinalGrade</th>\n",
       "    </tr>\n",
       "  </thead>\n",
       "  <tbody>\n",
       "    <tr>\n",
       "      <th>0</th>\n",
       "      <td>yes</td>\n",
       "      <td>11.038674</td>\n",
       "    </tr>\n",
       "    <tr>\n",
       "      <th>1</th>\n",
       "      <td>no</td>\n",
       "      <td>10.375389</td>\n",
       "    </tr>\n",
       "  </tbody>\n",
       "</table>\n",
       "</div>"
      ],
      "text/plain": [
       "  paid  FinalGrade\n",
       "0  yes   11.038674\n",
       "1   no   10.375389"
      ]
     },
     "execution_count": 10,
     "metadata": {},
     "output_type": "execute_result"
    }
   ],
   "source": [
    "# copy of the data set\n",
    "CopyFrame = pd.DataFrame(df)\n",
    "# Using groupby on the paid column to investiage if paid \n",
    "done = CopyFrame[CopyFrame.paid == 'yes']\n",
    "notdone = CopyFrame[CopyFrame.paid == 'no']\n",
    "Yes = done.groupby(['paid']).agg({'FinalGrade': 'mean'})\n",
    "No = notdone.groupby(['paid']).agg({'FinalGrade': 'mean'})\n",
    "Final = pd.concat([Yes,No]).reset_index()\n",
    "Final"
   ]
  },
  {
   "cell_type": "markdown",
   "metadata": {},
   "source": [
    "From the results we can see the tutored group performed better with a mean score of 11.04, whereas the group which wasn’t tutored has an average of 10.38. This is not a substantial difference however it does still supports our hypothesis. \n",
    "\n",
    "### --------------------------------------------------------------------------------------------------------------------------------------------------------------"
   ]
  },
  {
   "cell_type": "markdown",
   "metadata": {},
   "source": [
    "## Can commuting cause lower grades? \n",
    "We tested whether students who had a long commute to school had poor performance at school. We suspect students who commute longer times spend less time studying. We grouped the students according to the amount of time they spend commuting. Then we find the average final grade for each group and the average number of failed classes."
   ]
  },
  {
   "cell_type": "code",
   "execution_count": 11,
   "metadata": {},
   "outputs": [
    {
     "data": {
      "text/html": [
       "<div>\n",
       "<style scoped>\n",
       "    .dataframe tbody tr th:only-of-type {\n",
       "        vertical-align: middle;\n",
       "    }\n",
       "\n",
       "    .dataframe tbody tr th {\n",
       "        vertical-align: top;\n",
       "    }\n",
       "\n",
       "    .dataframe thead th {\n",
       "        text-align: right;\n",
       "    }\n",
       "</style>\n",
       "<table border=\"1\" class=\"dataframe\">\n",
       "  <thead>\n",
       "    <tr style=\"text-align: right;\">\n",
       "      <th></th>\n",
       "      <th>traveltime</th>\n",
       "      <th>FinalGrade</th>\n",
       "      <th>failures</th>\n",
       "    </tr>\n",
       "  </thead>\n",
       "  <tbody>\n",
       "    <tr>\n",
       "      <th>0</th>\n",
       "      <td>1</td>\n",
       "      <td>10.979248</td>\n",
       "      <td>0.299611</td>\n",
       "    </tr>\n",
       "    <tr>\n",
       "      <th>1</th>\n",
       "      <td>2</td>\n",
       "      <td>10.295950</td>\n",
       "      <td>0.355140</td>\n",
       "    </tr>\n",
       "    <tr>\n",
       "      <th>2</th>\n",
       "      <td>3</td>\n",
       "      <td>9.855072</td>\n",
       "      <td>0.478261</td>\n",
       "    </tr>\n",
       "    <tr>\n",
       "      <th>3</th>\n",
       "      <td>4</td>\n",
       "      <td>8.541667</td>\n",
       "      <td>0.750000</td>\n",
       "    </tr>\n",
       "  </tbody>\n",
       "</table>\n",
       "</div>"
      ],
      "text/plain": [
       "   traveltime  FinalGrade  failures\n",
       "0           1   10.979248  0.299611\n",
       "1           2   10.295950  0.355140\n",
       "2           3    9.855072  0.478261\n",
       "3           4    8.541667  0.750000"
      ]
     },
     "execution_count": 11,
     "metadata": {},
     "output_type": "execute_result"
    }
   ],
   "source": [
    "newCopy = pd.DataFrame(df) # Make a copy of the initial dataframe\n",
    "# Picking out individual traveltime and then using groupby to calculate the mean average of final grade and failures\n",
    "FifteenMin= newCopy[newCopy.traveltime== 1]\n",
    "ThirtyMin= newCopy[newCopy.traveltime == 2]\n",
    "OneHour= newCopy[newCopy.traveltime == 3]\n",
    "OneHour2= newCopy[newCopy.traveltime == 4]\n",
    "\n",
    "First = FifteenMin.groupby(['traveltime']).agg({'FinalGrade': 'mean','failures': 'mean'})\n",
    "Second = ThirtyMin.groupby(['traveltime']).agg({'FinalGrade': 'mean','failures': 'mean'})\n",
    "Third = OneHour.groupby(['traveltime']).agg({'FinalGrade': 'mean','failures': 'mean'})\n",
    "Fourth = OneHour2.groupby(['traveltime']).agg({'FinalGrade': 'mean','failures': 'mean'})\n",
    "Final = pd.concat([First,Second,Third,Fourth]).reset_index()\n",
    "Final"
   ]
  },
  {
   "cell_type": "code",
   "execution_count": 12,
   "metadata": {},
   "outputs": [
    {
     "data": {
      "image/png": "[encoded data removed]",
      "text/plain": [
       "<matplotlib.figure.Figure at 0x267a3aee5f8>"
      ]
     },
     "metadata": {},
     "output_type": "display_data"
    }
   ],
   "source": [
    "# plotting the travelTime vs failures and Final Grade\n",
    "plt.plot(Final.traveltime,Final.FinalGrade, '-b', label='Final Grade');\n",
    "plt.plot(Final.traveltime, Final.failures, '-r', label='failures');\n",
    "plt.title('TravelTime vs failures and Final Grade');\n",
    "plt.xlabel('Travel Time');\n",
    "plt.ylabel(\"Final Grade and failures\");\n",
    "plt.legend(loc='right');"
   ]
  },
  {
   "cell_type": "markdown",
   "metadata": {},
   "source": [
    "In the chart we generated, we can see the grades decrease as the time for commuting increases, the number of failures also increases. "
   ]
  },
  {
   "cell_type": "markdown",
   "metadata": {},
   "source": [
    "# Conclusion:\n",
    "Our objective for these analyses is to help struggling students improve. We intend to do this by isolating factors that may contribute to better grades. From all of our analyses, we found many interesting connections in our dataset. We combined the 3 terms to get our final grade. We compared the number of hours spent studying with the final grade, and we came to the conclusion that the students who studied for a longer period of time tend to have a higher grade. From our analysis, we found studying between 5 and 10 hours per week provided the best ratio of improvement. When we were testing the correlation between the number of absences and final grade, we found a Pearson correlation coefficient of -0.0059 which proved to have no significant correlation between the two. The next test was with the student’s parent’s level of education and the student’s final grade. Our hypothesis was the parent’s level of education would reflect on their child’s performance at school. After our analysis we concluded there was no significant relationship between parents being educated and the students’ final grades. This can be motivational for students who think because they come from an uneducated family, they won’t be able to succeed academically, this data shows them there is nothing holding them back. After, we analysed students who went to tutors and those who didn’t, we came to the conclusion that going to a tutor is a factor which helps improve a student’s grade. We also analysed the effect of different commute times on final grades and classes failed. We found as the commute time goes up the student’s final grade drops and failed classes increases. This might be because the student spends more time commuting, resulting in having less time for other activities including studying. "
   ]
  },
  {
   "cell_type": "markdown",
   "metadata": {},
   "source": [
    "### ---------------------------------------------------------------------------------------------------------------------------------------------------------------"
   ]
  },
  {
   "cell_type": "code",
   "execution_count": 13,
   "metadata": {},
   "outputs": [
    {
     "data": {
      "text/html": [
       "<div>\n",
       "<style scoped>\n",
       "    .dataframe tbody tr th:only-of-type {\n",
       "        vertical-align: middle;\n",
       "    }\n",
       "\n",
       "    .dataframe tbody tr th {\n",
       "        vertical-align: top;\n",
       "    }\n",
       "\n",
       "    .dataframe thead th {\n",
       "        text-align: right;\n",
       "    }\n",
       "</style>\n",
       "<table border=\"1\" class=\"dataframe\">\n",
       "  <thead>\n",
       "    <tr style=\"text-align: right;\">\n",
       "      <th></th>\n",
       "      <th>school</th>\n",
       "      <th>sex</th>\n",
       "      <th>age</th>\n",
       "      <th>address</th>\n",
       "      <th>famsize</th>\n",
       "      <th>Pstatus</th>\n",
       "      <th>Medu</th>\n",
       "      <th>Fedu</th>\n",
       "      <th>Mjob</th>\n",
       "      <th>Fjob</th>\n",
       "      <th>reason</th>\n",
       "      <th>guardian</th>\n",
       "      <th>traveltime</th>\n",
       "      <th>studytime</th>\n",
       "      <th>failures</th>\n",
       "      <th>schoolsup</th>\n",
       "      <th>famsup</th>\n",
       "      <th>paid</th>\n",
       "      <th>activities</th>\n",
       "      <th>nursery</th>\n",
       "      <th>higher</th>\n",
       "      <th>internet</th>\n",
       "      <th>romantic</th>\n",
       "      <th>famrel</th>\n",
       "      <th>freetime</th>\n",
       "      <th>goout</th>\n",
       "      <th>Dalc</th>\n",
       "      <th>Walc</th>\n",
       "      <th>health</th>\n",
       "      <th>absences</th>\n",
       "      <th>G1</th>\n",
       "      <th>G2</th>\n",
       "      <th>G3</th>\n",
       "      <th>FinalGrade</th>\n",
       "    </tr>\n",
       "  </thead>\n",
       "  <tbody>\n",
       "    <tr>\n",
       "      <th>47</th>\n",
       "      <td>GP</td>\n",
       "      <td>M</td>\n",
       "      <td>16</td>\n",
       "      <td>U</td>\n",
       "      <td>GT3</td>\n",
       "      <td>T</td>\n",
       "      <td>4</td>\n",
       "      <td>3</td>\n",
       "      <td>health</td>\n",
       "      <td>services</td>\n",
       "      <td>reputation</td>\n",
       "      <td>mother</td>\n",
       "      <td>1</td>\n",
       "      <td>4</td>\n",
       "      <td>0</td>\n",
       "      <td>no</td>\n",
       "      <td>no</td>\n",
       "      <td>no</td>\n",
       "      <td>yes</td>\n",
       "      <td>yes</td>\n",
       "      <td>yes</td>\n",
       "      <td>yes</td>\n",
       "      <td>no</td>\n",
       "      <td>4</td>\n",
       "      <td>2</td>\n",
       "      <td>2</td>\n",
       "      <td>1</td>\n",
       "      <td>1</td>\n",
       "      <td>2</td>\n",
       "      <td>4</td>\n",
       "      <td>19</td>\n",
       "      <td>19</td>\n",
       "      <td>20</td>\n",
       "      <td>19.3333</td>\n",
       "    </tr>\n",
       "  </tbody>\n",
       "</table>\n",
       "</div>"
      ],
      "text/plain": [
       "   school sex age address famsize Pstatus Medu Fedu    Mjob      Fjob  \\\n",
       "47     GP   M  16       U     GT3       T    4    3  health  services   \n",
       "\n",
       "        reason guardian traveltime studytime failures schoolsup famsup paid  \\\n",
       "47  reputation   mother          1         4        0        no     no   no   \n",
       "\n",
       "   activities nursery higher internet romantic famrel freetime goout Dalc  \\\n",
       "47        yes     yes    yes      yes       no      4        2     2    1   \n",
       "\n",
       "   Walc health absences  G1  G2  G3 FinalGrade  \n",
       "47    1      2        4  19  19  20    19.3333  "
      ]
     },
     "execution_count": 13,
     "metadata": {},
     "output_type": "execute_result"
    }
   ],
   "source": [
    "maxFinalGrade = df.loc[df['FinalGrade'].idxmax()] # Finding the maximum row with highest final grade\n",
    "newData = pd.DataFrame(maxFinalGrade)\n",
    "newData = newData.T # Change the rows to columns (and columns to rows)\n",
    "newData"
   ]
  },
  {
   "cell_type": "code",
   "execution_count": 14,
   "metadata": {},
   "outputs": [
    {
     "data": {
      "text/html": [
       "<div>\n",
       "<style scoped>\n",
       "    .dataframe tbody tr th:only-of-type {\n",
       "        vertical-align: middle;\n",
       "    }\n",
       "\n",
       "    .dataframe tbody tr th {\n",
       "        vertical-align: top;\n",
       "    }\n",
       "\n",
       "    .dataframe thead th {\n",
       "        text-align: right;\n",
       "    }\n",
       "</style>\n",
       "<table border=\"1\" class=\"dataframe\">\n",
       "  <thead>\n",
       "    <tr style=\"text-align: right;\">\n",
       "      <th></th>\n",
       "      <th>school</th>\n",
       "      <th>sex</th>\n",
       "      <th>age</th>\n",
       "      <th>address</th>\n",
       "      <th>famsize</th>\n",
       "      <th>Pstatus</th>\n",
       "      <th>Medu</th>\n",
       "      <th>Fedu</th>\n",
       "      <th>Mjob</th>\n",
       "      <th>Fjob</th>\n",
       "      <th>reason</th>\n",
       "      <th>guardian</th>\n",
       "      <th>traveltime</th>\n",
       "      <th>studytime</th>\n",
       "      <th>failures</th>\n",
       "      <th>schoolsup</th>\n",
       "      <th>famsup</th>\n",
       "      <th>paid</th>\n",
       "      <th>activities</th>\n",
       "      <th>nursery</th>\n",
       "      <th>higher</th>\n",
       "      <th>internet</th>\n",
       "      <th>romantic</th>\n",
       "      <th>famrel</th>\n",
       "      <th>freetime</th>\n",
       "      <th>goout</th>\n",
       "      <th>Dalc</th>\n",
       "      <th>Walc</th>\n",
       "      <th>health</th>\n",
       "      <th>absences</th>\n",
       "      <th>G1</th>\n",
       "      <th>G2</th>\n",
       "      <th>G3</th>\n",
       "      <th>FinalGrade</th>\n",
       "    </tr>\n",
       "  </thead>\n",
       "  <tbody>\n",
       "    <tr>\n",
       "      <th>137</th>\n",
       "      <td>GP</td>\n",
       "      <td>F</td>\n",
       "      <td>16</td>\n",
       "      <td>U</td>\n",
       "      <td>GT3</td>\n",
       "      <td>A</td>\n",
       "      <td>3</td>\n",
       "      <td>3</td>\n",
       "      <td>other</td>\n",
       "      <td>other</td>\n",
       "      <td>course</td>\n",
       "      <td>other</td>\n",
       "      <td>2</td>\n",
       "      <td>1</td>\n",
       "      <td>2</td>\n",
       "      <td>no</td>\n",
       "      <td>yes</td>\n",
       "      <td>no</td>\n",
       "      <td>yes</td>\n",
       "      <td>no</td>\n",
       "      <td>yes</td>\n",
       "      <td>yes</td>\n",
       "      <td>yes</td>\n",
       "      <td>4</td>\n",
       "      <td>3</td>\n",
       "      <td>2</td>\n",
       "      <td>1</td>\n",
       "      <td>1</td>\n",
       "      <td>5</td>\n",
       "      <td>0</td>\n",
       "      <td>4</td>\n",
       "      <td>0</td>\n",
       "      <td>0</td>\n",
       "      <td>1.33333</td>\n",
       "    </tr>\n",
       "  </tbody>\n",
       "</table>\n",
       "</div>"
      ],
      "text/plain": [
       "    school sex age address famsize Pstatus Medu Fedu   Mjob   Fjob  reason  \\\n",
       "137     GP   F  16       U     GT3       A    3    3  other  other  course   \n",
       "\n",
       "    guardian traveltime studytime failures schoolsup famsup paid activities  \\\n",
       "137    other          2         1        2        no    yes   no        yes   \n",
       "\n",
       "    nursery higher internet romantic famrel freetime goout Dalc Walc health  \\\n",
       "137      no    yes      yes      yes      4        3     2    1    1      5   \n",
       "\n",
       "    absences G1 G2 G3 FinalGrade  \n",
       "137        0  4  0  0    1.33333  "
      ]
     },
     "execution_count": 14,
     "metadata": {},
     "output_type": "execute_result"
    }
   ],
   "source": [
    "maxFinalGrade = df.loc[df['FinalGrade'].idxmin()] # Finding the minimum row with lowest final grade\n",
    "newData = pd.DataFrame(maxFinalGrade)\n",
    "newData = newData.T # Change the rows to columns (and columns to rows)\n",
    "newData"
   ]
  },
  {
   "cell_type": "markdown",
   "metadata": {},
   "source": [
    "#### To prove the accuracy our analysis, we decided to pick out the most successful student in our dataset along with least successfully student. We were stunned by how accurate the analysis we made. For example, the student that received the highest grade has the been studying for many hours a week, having highly educated parents and has commuted the minimal amount of time. On the other hand, a student with a lower grade has done the oppiosite."
   ]
  }
 ],
 "metadata": {
  "kernelspec": {
   "display_name": "Python 3",
   "language": "python",
   "name": "python3"
  },
  "language_info": {
   "codemirror_mode": {
    "name": "ipython",
    "version": 3
   },
   "file_extension": ".py",
   "mimetype": "text/x-python",
   "name": "python",
   "nbconvert_exporter": "python",
   "pygments_lexer": "ipython3",
   "version": "3.6.8"
  }
 },
 "nbformat": 4,
 "nbformat_minor": 2
}
